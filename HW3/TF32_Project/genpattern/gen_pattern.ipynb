{
 "cells": [
  {
   "cell_type": "code",
   "execution_count": 1,
   "metadata": {},
   "outputs": [],
   "source": [
    "import numpy as np\n",
    "import random\n",
    "import struct\n",
    "import warnings\n",
    "import os\n",
    "# Suppress RuntimeWarnings related to overflow\n",
    "warnings.filterwarnings(\"ignore\", category=RuntimeWarning)"
   ]
  },
  {
   "cell_type": "code",
   "execution_count": 12,
   "metadata": {},
   "outputs": [],
   "source": [
    "def float_to_bin(num):\n",
    "    '''Input floating points. Output 32 bits single-percision string in binary'''\n",
    "    bits, = struct.unpack('!I', struct.pack('!f', num))\n",
    "    return \"{:032b}\".format(bits)\n",
    "\n",
    "def tf32_to_bin(num):\n",
    "    '''Input floating point. Output first 19 bits (MSB) of 32-bit single-precision binary string'''\n",
    "    bits, = struct.unpack('!I', struct.pack('!f', num))\n",
    "    full_bin = \"{:032b}\".format(bits)\n",
    "    return full_bin[:19]\n",
    "def binStr_to_hex(bin_str):\n",
    "    \"\"\"Input a binary string. Output a HEX string.\"\"\"\n",
    "    # Convert binary string to an integer\n",
    "    int_value = int(bin_str, 2)\n",
    "    \n",
    "    # Convert integer to hexadecimal and remove the '0x' prefix\n",
    "    hex_value = hex(int_value)[2:]\n",
    "    \n",
    "    # Pad with leading zeros to ensure it's 8 characters long (32 bits)\n",
    "    hex_value = hex_value.zfill(8)  # Ensure it's 8 hex digits (32 bits)\n",
    "    \n",
    "    return hex_value\n",
    "def binStr_to_float32(bin_str):\n",
    "    \"\"\"Input a 32 bit binary string. Output a np.float32 number.\"\"\"\n",
    "    if len(bin_str) != 32:\n",
    "        raise ValueError(\"The binary string must be 32 bits long.\")\n",
    "    # Convert the binary string to an unsigned 32-bit integer\n",
    "    int_representation = int(bin_str, 2)\n",
    "    # Convert the integer to a float32\n",
    "    float_representation = np.float32(np.frombuffer(np.uint32(int_representation).tobytes(), dtype=np.float32)[0])\n",
    "    return float_representation"
   ]
  },
  {
   "cell_type": "markdown",
   "metadata": {},
   "source": [
    "RANDOMLY GENERATE TEST PATTERN( include some corner cases)"
   ]
  },
  {
   "cell_type": "code",
   "execution_count": 3,
   "metadata": {},
   "outputs": [],
   "source": [
    "def generate_random_uniform(MIN, MAX):\n",
    "    \"\"\"randomly generate float32 number in uniform distribution\"\"\"\n",
    "    random_pos = np.random.uniform(np.float32(MIN), np.float32(MAX))\n",
    "    random_sign = random.choice([-1, 1])\n",
    "    random_float32 = np.float32((random_pos * random_sign))\n",
    "    return np.float32(random_float32)"
   ]
  },
  {
   "cell_type": "code",
   "execution_count": 4,
   "metadata": {},
   "outputs": [],
   "source": [
    "def generate_random_log(MIN, MAX):\n",
    "    \"\"\"randomly generate float32 number in log distribution\"\"\"\n",
    "    # Constants representing the range limits in log space\n",
    "    min_log = np.log(MIN).astype(np.float32)\n",
    "    max_log = np.log(MAX).astype(np.float32)\n",
    "    # Generate a random float32 in log space, then exponentiate it\n",
    "    random_log_value = np.random.uniform(min_log, max_log)\n",
    "    random_pos = np.exp(random_log_value).astype(np.float32)\n",
    "    random_sign = random.choice([-1, 1])\n",
    "    random_float32 = np.float32((random_pos * random_sign))\n",
    "    return np.float32(random_float32)"
   ]
  },
  {
   "cell_type": "code",
   "execution_count": 5,
   "metadata": {},
   "outputs": [],
   "source": [
    "def generate_random_pattern_list(INST='ADD',  UNIFORM_NORM_NUM=0, LOG_NORM_NUM=0):\n",
    "    \n",
    "    \"\"\"RANDOMLY GENERATE PATTERN LIST\"\"\"\n",
    "    # lists of np.float32 numbers\n",
    "    pattern_A_list = []\n",
    "    pattern_B_list = []\n",
    "    pattern_OUT_list = []\n",
    "\n",
    "    # randomly generate 2 NORMAL numbers in UNIFORM distribution\n",
    "    for _ in range(UNIFORM_NORM_NUM):\n",
    "        A = generate_random_uniform(MIN = 2**-126, MAX = (2 - 2**-23) * 2**127)\n",
    "        B = generate_random_uniform(MIN = 2**-126, MAX = (2 - 2**-23) * 2**127)\n",
    "        pattern_A_list.append(A)\n",
    "        pattern_B_list.append(B)\n",
    "        if INST == 'ADD':\n",
    "            pattern_OUT_list.append(A + B)\n",
    "        elif INST == 'SUB':\n",
    "            pattern_OUT_list.append(A - B)\n",
    "        elif INST == 'CMP':\n",
    "                pattern_OUT_list.append(np.float32(A < B)) #1: true, 0: false\n",
    "    # randomly generate 2 NORMAL numbers in LOG distribution\n",
    "    for _ in range(LOG_NORM_NUM):\n",
    "        A = generate_random_log(MIN = 2**-126, MAX = (2 - 2**-23) * 2**127)\n",
    "        B = generate_random_log(MIN = 2**-126, MAX = (2 - 2**-23) * 2**127)\n",
    "        pattern_A_list.append(A)\n",
    "        pattern_B_list.append(B)\n",
    "        if INST == 'ADD':\n",
    "            pattern_OUT_list.append(A + B)\n",
    "        elif INST == 'SUB':\n",
    "            pattern_OUT_list.append(A - B)\n",
    "        elif INST == 'CMP':\n",
    "                pattern_OUT_list.append(np.float32(A < B)) #1: true, 0: false\n",
    "    \n",
    "\n",
    "    return pattern_A_list, pattern_B_list, pattern_OUT_list"
   ]
  },
  {
   "cell_type": "markdown",
   "metadata": {},
   "source": [
    "WRITE OUTPUT DATA"
   ]
  },
  {
   "cell_type": "code",
   "execution_count": 17,
   "metadata": {},
   "outputs": [],
   "source": [
    "# Function to write pairs into a text file\n",
    "def write_to_txt(INST, pattern_A_list, pattern_B_list, pattern_OUT_list, root_dir = '',  file_dir_A='A.dat', file_dir_B='B.dat', file_dir_OUT='OUT.dat'):\n",
    "    # A\n",
    "    with open(os.path.join(root_dir, file_dir_A), 'w') as file:\n",
    "        for num in pattern_A_list:\n",
    "            file.write(f\"{tf32_to_bin(num)}\\n\")\n",
    "    # B\n",
    "    with open(os.path.join(root_dir, file_dir_B), 'w') as file:\n",
    "        for num in pattern_B_list:\n",
    "            file.write(f\"{tf32_to_bin(num)}\\n\")\n",
    "    # OUT\n",
    "    # if INST == 'CMP':\n",
    "    #     with open(os.path.join(root_dir, file_dir_OUT), 'w') as file:\n",
    "    #         for num in pattern_OUT_list:\n",
    "    #             if num == 1: #TRUE  \n",
    "    #                 file.write(f\"00000000000000000000000000000001 // TRUE\\n\")\n",
    "    #             elif num == 0: #FALSE  \n",
    "    #                 file.write(f\"00000000000000000000000000000000 // FALSE\\n\")\n",
    "    # elif INST == 'ADD' or INST == 'SUB':\n",
    "    #     with open(os.path.join(root_dir, file_dir_OUT), 'w') as file:\n",
    "    #         for num in pattern_OUT_list:\n",
    "    #             file.write(f\"{tf32_to_bin(num)}  // {binStr_to_hex(float_to_bin(num))}\\n\")"
   ]
  },
  {
   "cell_type": "markdown",
   "metadata": {},
   "source": [
    "MAIN"
   ]
  },
  {
   "cell_type": "code",
   "execution_count": 18,
   "metadata": {},
   "outputs": [
    {
     "name": "stdout",
     "output_type": "stream",
     "text": [
      "ADD pattern complete\n"
     ]
    }
   ],
   "source": [
    "UNIFORM_NORM_NUM = 1000\n",
    "LOG_NORM_NUM = 1000\n",
    "\n",
    "\n",
    "root_dir = \"./MY_pattern/ADD\"\n",
    "INST='ADD'\n",
    "pattern_A_list, pattern_B_list, pattern_OUT_list = generate_random_pattern_list(INST, UNIFORM_NORM_NUM, LOG_NORM_NUM)\n",
    "write_to_txt(INST, pattern_A_list, pattern_B_list, pattern_OUT_list, root_dir)\n",
    "print(\"ADD pattern complete\")\n",
    "\n",
    "# root_dir = \"./MY_pattern/SUB\"\n",
    "# INST='SUB'\n",
    "# pattern_A_list, pattern_B_list, pattern_OUT_list = generate_random_pattern_list(INST, UNIFORM_NORM_NUM, LOG_NORM_NUM)\n",
    "# write_to_txt(INST, pattern_A_list, pattern_B_list, pattern_OUT_list, root_dir)\n",
    "# print(\"SUB pattern complete\")\n",
    "\n",
    "# root_dir = \"./MY_pattern/CMP\"\n",
    "# INST='CMP'\n",
    "# pattern_A_list, pattern_B_list, pattern_OUT_list = generate_random_pattern_list(INST, UNIFORM_NORM_NUM, LOG_NORM_NUM)\n",
    "# write_to_txt(INST, pattern_A_list, pattern_B_list, pattern_OUT_list, root_dir)\n",
    "# print(\"CMP pattern complete\")"
   ]
  },
  {
   "cell_type": "code",
   "execution_count": null,
   "metadata": {},
   "outputs": [],
   "source": []
  },
  {
   "cell_type": "code",
   "execution_count": null,
   "metadata": {},
   "outputs": [],
   "source": []
  }
 ],
 "metadata": {
  "kernelspec": {
   "display_name": "Python ENV1",
   "language": "python",
   "name": "env1"
  },
  "language_info": {
   "codemirror_mode": {
    "name": "ipython",
    "version": 3
   },
   "file_extension": ".py",
   "mimetype": "text/x-python",
   "name": "python",
   "nbconvert_exporter": "python",
   "pygments_lexer": "ipython3",
   "version": "3.8.20"
  }
 },
 "nbformat": 4,
 "nbformat_minor": 2
}
